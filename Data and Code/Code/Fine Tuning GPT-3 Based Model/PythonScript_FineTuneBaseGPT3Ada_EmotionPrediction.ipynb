{
 "cells": [
  {
   "cell_type": "markdown",
   "id": "35a1e52a",
   "metadata": {},
   "source": [
    "<br><br><br>\n",
    "<center> <h3 style=\"color:green\">========================================================</h3> </center>\n",
    "<center> <h3 style=\"color:green\">In the Name of Allah, the Most Beneficent, the Most Merciful</h3> </center>\n",
    "<center> <h3 style=\"color:green\">========================================================</h3> </center>\n",
    "<br><br><br>"
   ]
  },
  {
   "cell_type": "markdown",
   "id": "ee0f5cee",
   "metadata": {},
   "source": [
    "                        *--------------------------- Developer Information --------------------------*\n",
    "                        |                                                                            |\n",
    "                        |        Project Title  = Angry Text Prediction System                       |\n",
    "                        |                                                                            |\n",
    "                        |        Developer Name = Ayesha Noreen                                      |\n",
    "                        |                                                                            |\n",
    "                        |        Program Name:  = Data preparation                                   |\n",
    "                        |                                                                            |\n",
    "                        |        Program Version: = 1.0                                              |\n",
    "                        |                                                                            |\n",
    "                        |        Base GPT3 Model: = Ada                                              |\n",
    "                        |                                                                            |\n",
    "                        |        Time Taken in Fine Tuning: = 6 minutes                              |\n",
    "                        |                                                                            |\n",
    "                        |        Copyright      = Copyright (C) 2022 Ayesha Noreen                   |\n",
    "                        |                                                                            |\n",
    "                        |        License        = Public Domain                                      |\n",
    "                        |                                                                            |\n",
    "                        |        Version        = 1.0                                                |\n",
    "                        |                                                                            |\n",
    "                        *----------------------------------------------------------------------------*"
   ]
  },
  {
   "cell_type": "markdown",
   "id": "ad94924e",
   "metadata": {},
   "source": [
    "\n",
    "                        *----------------------------- System Settings ------------------------------*\n",
    "                        |                                                                            |\n",
    "                        |        Programming Language  = Python 3.9.12                               |\n",
    "                        |                                                                            |\n",
    "                        |        Operating System      = Windows 10                                  |\n",
    "                        |                                                                            |\n",
    "                        |        IDE                   = Jupyter Notebook                            |\n",
    "                        |                                                                            |\n",
    "                        |        Start date            = 5-12-2022                                   |\n",
    "                        |                                                                            |\n",
    "                        |        End Data              = 10-12-2022                                  |\n",
    "                        |                                                                            |\n",
    "                        *----------------------------------------------------------------------------*\n"
   ]
  },
  {
   "cell_type": "markdown",
   "id": "fa6b13bc",
   "metadata": {},
   "source": [
    "\n",
    "                        *----------------------- Project and Client Information  --------------------*\n",
    "                        |                                                                            |\n",
    "                        |                                                                            |\n",
    "                        |        Project Title: Angry Text Prediction System                         |                         \n",
    "                        |        Client Name  : Ayesha Noreen                                        |\n",
    "                        |                                                                            |\n",
    "                        *----------------------------------------------------------------------------*\n"
   ]
  },
  {
   "cell_type": "markdown",
   "id": "76604f09",
   "metadata": {},
   "source": [
    "\n",
    "                        *--------------------------- Purpose of the Program -------------------------*\n",
    "                        |                                                                            |\n",
    "                        |                                                                            |\n",
    "                        |        The Main purpoe of this program is to Fine-tune the GPT-3 model     |\n",
    "                        |                 using a JSONLines Format prepared in Step 7                |                         \n",
    "                        |                             of DATA PREPARATION                            |\n",
    "                        |                                                                            |\n",
    "                        *----------------------------------------------------------------------------*\n"
   ]
  },
  {
   "cell_type": "markdown",
   "id": "0dbd1366",
   "metadata": {},
   "source": [
    "\n",
    "                        *------------------------------ Input and Output ----------------------------*\n",
    "                        |                                                                            |\n",
    "                        |                                                                            |\n",
    "                        |        Input :                                                             |\n",
    "                        |            - JASONLinesData_EmotionPrediction_prepared.json                |\n",
    "                        |       Output :                                                             |\n",
    "                        |            -  Trained Model                                                |\n",
    "                        |                                                                            |\n",
    "                        |                                                                            |\n",
    "                        *----------------------------------------------------------------------------*\n"
   ]
  },
  {
   "cell_type": "markdown",
   "id": "09e68223",
   "metadata": {},
   "source": [
    "# Step 1: Import Libraries"
   ]
  },
  {
   "cell_type": "code",
   "execution_count": 1,
   "id": "0160cead",
   "metadata": {},
   "outputs": [],
   "source": [
    "import pandas as pd\n",
    "import openai\n",
    "import os"
   ]
  },
  {
   "cell_type": "markdown",
   "id": "47d0e55b",
   "metadata": {},
   "source": [
    "# Step 2: Add Unique API to the Environment"
   ]
  },
  {
   "cell_type": "code",
   "execution_count": 2,
   "id": "9e379622",
   "metadata": {},
   "outputs": [],
   "source": [
    "os.environ['OPENAI_API_KEY'] = \"Add Your Unique API Here\"\n",
    "openai.api_key = os.getenv(\"OPENAI_API_KEY\")"
   ]
  },
  {
   "cell_type": "markdown",
   "id": "de1066d8",
   "metadata": {},
   "source": [
    "# Step 3: Fine Tune Prepared Dataset using ada Model\n",
    "#### Important Note\n",
    "#### We cannot train fine-tune a model on free trial if its exceeds 15$"
   ]
  },
  {
   "cell_type": "markdown",
   "id": "2cb515cf",
   "metadata": {},
   "source": [
    "#### Use JASONLinesData_EmotionPrediction_prepared_train.jsonl and JASONLinesData_EmotionPrediction_prepared_valid.jsonl for the Fine-tunning created in DATA PREPRATION Step 7"
   ]
  },
  {
   "cell_type": "code",
   "execution_count": 3,
   "id": "baa91cba",
   "metadata": {
    "scrolled": false
   },
   "outputs": [
    {
     "name": "stdout",
     "output_type": "stream",
     "text": [
      "Uploaded file from JASONLinesData_EmotionPrediction_prepared_train (5).jsonl: file-dtGpyUUxinayBNPCq9gFTNQV\n",
      "Uploaded file from JASONLinesData_EmotionPrediction_prepared_valid (5).jsonl: file-4Zrjb6HWsshN9pCL0Y5OuOvi\n",
      "Created fine-tune: ft-XtdQvQHUCcmiv7LOstKNctum\n",
      "Streaming events until fine-tuning is complete...\n",
      "\n",
      "(Ctrl-C will interrupt the stream, but not cancel the fine-tune)\n",
      "[2022-12-17 00:18:32] Created fine-tune: ft-XtdQvQHUCcmiv7LOstKNctum\n",
      "[2022-12-17 00:19:24] Fine-tune costs $0.23\n",
      "[2022-12-17 00:19:25] Fine-tune enqueued. Queue number: 0\n",
      "[2022-12-17 00:19:28] Fine-tune started\n",
      "[2022-12-17 00:23:50] Completed epoch 1/4\n",
      "\n",
      "Stream interrupted (client disconnected).\n",
      "To resume the stream, run:\n",
      "\n",
      "  openai api fine_tunes.follow -i ft-XtdQvQHUCcmiv7LOstKNctum\n",
      "\n"
     ]
    },
    {
     "name": "stderr",
     "output_type": "stream",
     "text": [
      "\n",
      "Upload progress:   0%|          | 0.00/681k [00:00<?, ?it/s]\n",
      "Upload progress: 100%|##########| 681k/681k [00:00<00:00, 340Mit/s]\n",
      "\n",
      "Upload progress:   0%|          | 0.00/129k [00:00<?, ?it/s]\n",
      "Upload progress: 100%|##########| 129k/129k [00:00<00:00, 43.1Mit/s]\n"
     ]
    }
   ],
   "source": [
    "!openai api fine_tunes.create -t \"JASONLinesData_EmotionPrediction_prepared_train (5).jsonl\" -v \"JASONLinesData_EmotionPrediction_prepared_valid (5).jsonl\" --compute_classification_metrics --classification_positive_class \" 0\" -m ada"
   ]
  },
  {
   "cell_type": "code",
   "execution_count": 5,
   "id": "663737c0",
   "metadata": {},
   "outputs": [
    {
     "name": "stdout",
     "output_type": "stream",
     "text": [
      "[2022-12-17 00:18:32] Created fine-tune: ft-XtdQvQHUCcmiv7LOstKNctum"
     ]
    },
    {
     "name": "stderr",
     "output_type": "stream",
     "text": [
      "Traceback (most recent call last):\n",
      "  File \"C:\\Users\\Ayesha Noreen\\Anaconda3\\lib\\runpy.py\", line 197, in _run_module_as_main\n",
      "    return _run_code(code, main_globals, None,\n",
      "  File \"C:\\Users\\Ayesha Noreen\\Anaconda3\\lib\\runpy.py\", line 87, in _run_code\n",
      "    exec(code, run_globals)\n",
      "  File \"C:\\Users\\Ayesha Noreen\\Anaconda3\\Scripts\\openai.exe\\__main__.py\", line 7, in <module>\n",
      "  File \"C:\\Users\\Ayesha Noreen\\Anaconda3\\lib\\site-packages\\openai\\_openai_scripts.py\", line 63, in main\n",
      "    args.func(args)\n",
      "  File \"C:\\Users\\Ayesha Noreen\\Anaconda3\\lib\\site-packages\\openai\\cli.py\", line 499, in follow\n",
      "    cls._stream_events(args.id)\n",
      "  File \"C:\\Users\\Ayesha Noreen\\Anaconda3\\lib\\site-packages\\openai\\cli.py\", line 542, in _stream_events\n",
      "    sys.stdout.write(\"\\nJob complete! Status: succeeded \\U0001f389\")\n",
      "  File \"C:\\Users\\Ayesha Noreen\\Anaconda3\\lib\\encodings\\cp1252.py\", line 19, in encode\n",
      "    return codecs.charmap_encode(input,self.errors,encoding_table)[0]\n",
      "UnicodeEncodeError: 'charmap' codec can't encode character '\\U0001f389' in position 34: character maps to <undefined>\n"
     ]
    },
    {
     "name": "stdout",
     "output_type": "stream",
     "text": [
      "\n",
      "[2022-12-17 00:19:24] Fine-tune costs $0.23\n",
      "[2022-12-17 00:19:25] Fine-tune enqueued. Queue number: 0\n",
      "[2022-12-17 00:19:28] Fine-tune started\n",
      "[2022-12-17 00:23:50] Completed epoch 1/4\n",
      "[2022-12-17 00:28:12] Completed epoch 2/4\n",
      "[2022-12-17 00:32:33] Completed epoch 3/4\n",
      "[2022-12-17 00:36:51] Completed epoch 4/4\n",
      "[2022-12-17 00:37:27] Uploaded model: ada:ft-cui-2022-12-16-19-37-27\n",
      "[2022-12-17 00:37:28] Uploaded result file: file-vANNH325USmvD4rMAQcOMgfc\n",
      "[2022-12-17 00:37:28] Fine-tune succeeded\n"
     ]
    }
   ],
   "source": [
    "!openai api fine_tunes.follow -i ft-XtdQvQHUCcmiv7LOstKNctum"
   ]
  },
  {
   "cell_type": "markdown",
   "id": "c364c51e",
   "metadata": {},
   "source": [
    "## Fine-Tuned Model: ada:ft-cui-2022-12-16-19-37-27"
   ]
  },
  {
   "cell_type": "code",
   "execution_count": 7,
   "id": "3500a6dc",
   "metadata": {},
   "outputs": [],
   "source": [
    "!openai api fine_tunes.results -i ft-XtdQvQHUCcmiv7LOstKNctum > result.csv\n",
    "\n",
    "results = pd.read_csv('result.csv')"
   ]
  },
  {
   "cell_type": "code",
   "execution_count": 8,
   "id": "4bf74081",
   "metadata": {},
   "outputs": [
    {
     "data": {
      "text/html": [
       "<div>\n",
       "<style scoped>\n",
       "    .dataframe tbody tr th:only-of-type {\n",
       "        vertical-align: middle;\n",
       "    }\n",
       "\n",
       "    .dataframe tbody tr th {\n",
       "        vertical-align: top;\n",
       "    }\n",
       "\n",
       "    .dataframe thead th {\n",
       "        text-align: right;\n",
       "    }\n",
       "</style>\n",
       "<table border=\"1\" class=\"dataframe\">\n",
       "  <thead>\n",
       "    <tr style=\"text-align: right;\">\n",
       "      <th></th>\n",
       "      <th>step</th>\n",
       "      <th>elapsed_tokens</th>\n",
       "      <th>elapsed_examples</th>\n",
       "      <th>training_loss</th>\n",
       "      <th>training_sequence_accuracy</th>\n",
       "      <th>training_token_accuracy</th>\n",
       "      <th>validation_loss</th>\n",
       "      <th>validation_sequence_accuracy</th>\n",
       "      <th>validation_token_accuracy</th>\n",
       "      <th>classification/accuracy</th>\n",
       "      <th>classification/precision</th>\n",
       "      <th>classification/recall</th>\n",
       "      <th>classification/auroc</th>\n",
       "      <th>classification/auprc</th>\n",
       "      <th>classification/f1.0</th>\n",
       "    </tr>\n",
       "  </thead>\n",
       "  <tbody>\n",
       "    <tr>\n",
       "      <th>2590</th>\n",
       "      <td>2591</td>\n",
       "      <td>949752</td>\n",
       "      <td>20728</td>\n",
       "      <td>0.017048</td>\n",
       "      <td>1.0</td>\n",
       "      <td>1.0</td>\n",
       "      <td>NaN</td>\n",
       "      <td>NaN</td>\n",
       "      <td>NaN</td>\n",
       "      <td>0.841</td>\n",
       "      <td>0.866878</td>\n",
       "      <td>0.879421</td>\n",
       "      <td>0.923448</td>\n",
       "      <td>0.951851</td>\n",
       "      <td>0.873105</td>\n",
       "    </tr>\n",
       "  </tbody>\n",
       "</table>\n",
       "</div>"
      ],
      "text/plain": [
       "      step  elapsed_tokens  elapsed_examples  training_loss  \\\n",
       "2590  2591          949752             20728       0.017048   \n",
       "\n",
       "      training_sequence_accuracy  training_token_accuracy  validation_loss  \\\n",
       "2590                         1.0                      1.0              NaN   \n",
       "\n",
       "      validation_sequence_accuracy  validation_token_accuracy  \\\n",
       "2590                           NaN                        NaN   \n",
       "\n",
       "      classification/accuracy  classification/precision  \\\n",
       "2590                    0.841                  0.866878   \n",
       "\n",
       "      classification/recall  classification/auroc  classification/auprc  \\\n",
       "2590               0.879421              0.923448              0.951851   \n",
       "\n",
       "      classification/f1.0  \n",
       "2590             0.873105  "
      ]
     },
     "execution_count": 8,
     "metadata": {},
     "output_type": "execute_result"
    }
   ],
   "source": [
    "results[results['classification/accuracy'].notnull()].tail(1)"
   ]
  },
  {
   "cell_type": "code",
   "execution_count": 9,
   "id": "ffe9c044",
   "metadata": {},
   "outputs": [
    {
     "data": {
      "text/plain": [
       "<AxesSubplot:>"
      ]
     },
     "execution_count": 9,
     "metadata": {},
     "output_type": "execute_result"
    },
    {
     "data": {
      "image/png": "[encoded data removed]",
      "text/plain": [
       "<Figure size 432x288 with 1 Axes>"
      ]
     },
     "metadata": {
      "needs_background": "light"
     },
     "output_type": "display_data"
    }
   ],
   "source": [
    "results[results['classification/accuracy'].notnull()]['classification/accuracy'].plot()"
   ]
  }
 ],
 "metadata": {
  "kernelspec": {
   "display_name": "Python 3 (ipykernel)",
   "language": "python",
   "name": "python3"
  },
  "language_info": {
   "codemirror_mode": {
    "name": "ipython",
    "version": 3
   },
   "file_extension": ".py",
   "mimetype": "text/x-python",
   "name": "python",
   "nbconvert_exporter": "python",
   "pygments_lexer": "ipython3",
   "version": "3.9.12"
  }
 },
 "nbformat": 4,
 "nbformat_minor": 5
}
