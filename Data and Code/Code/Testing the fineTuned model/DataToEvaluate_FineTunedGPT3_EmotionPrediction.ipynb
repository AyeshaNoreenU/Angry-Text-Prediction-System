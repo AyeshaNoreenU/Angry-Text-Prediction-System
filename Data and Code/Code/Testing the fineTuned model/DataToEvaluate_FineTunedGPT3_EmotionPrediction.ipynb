{
 "cells": [
  {
   "cell_type": "markdown",
   "id": "35a1e52a",
   "metadata": {},
   "source": [
    "<br><br><br>\n",
    "<center> <h3 style=\"color:green\">========================================================</h3> </center>\n",
    "<center> <h3 style=\"color:green\">In the Name of Allah, the Most Beneficent, the Most Merciful</h3> </center>\n",
    "<center> <h3 style=\"color:green\">========================================================</h3> </center>\n",
    "<br><br><br>"
   ]
  },
  {
   "cell_type": "markdown",
   "id": "ee0f5cee",
   "metadata": {},
   "source": [
    "                        *--------------------------- Developer Information --------------------------*\n",
    "                        |                                                                            |\n",
    "                        |        Project Title  = Angry Text Prediction System                       |\n",
    "                        |                                                                            |\n",
    "                        |        Developer Name = Ayesha Noreen                                      |\n",
    "                        |                                                                            |\n",
    "                        |        Program Name:  = Data preparation                                   |\n",
    "                        |                                                                            |\n",
    "                        |        Program Version: = 1.0                                              |\n",
    "                        |                                                                            |\n",
    "                        |        Base GPT3 Model: = Ada                                              |\n",
    "                        |                                                                            |\n",
    "                        |        Time Taken in Fine Tuning: = 6 minutes                              |\n",
    "                        |                                                                            |\n",
    "                        |        Copyright      = Copyright (C) 2022 Ayesha Noreen                   |\n",
    "                        |                                                                            |\n",
    "                        |        License        = Public Domain                                      |\n",
    "                        |                                                                            |\n",
    "                        |        Version        = 1.0                                                |\n",
    "                        |                                                                            |\n",
    "                        *----------------------------------------------------------------------------*"
   ]
  },
  {
   "cell_type": "markdown",
   "id": "ad94924e",
   "metadata": {},
   "source": [
    "\n",
    "                        *----------------------------- System Settings ------------------------------*\n",
    "                        |                                                                            |\n",
    "                        |        Programming Language  = Python 3.9.12                               |\n",
    "                        |                                                                            |\n",
    "                        |        Operating System      = Windows 10                                  |\n",
    "                        |                                                                            |\n",
    "                        |        IDE                   = Jupyter Notebook                            |\n",
    "                        |                                                                            |\n",
    "                        |        Start date            = 5-12-2022                                   |\n",
    "                        |                                                                            |\n",
    "                        |        End Data              = 10-12-2022                                  |\n",
    "                        |                                                                            |\n",
    "                        *----------------------------------------------------------------------------*\n"
   ]
  },
  {
   "cell_type": "markdown",
   "id": "97b33896",
   "metadata": {},
   "source": [
    "\n",
    "                        *----------------------- Project and Client Information  --------------------*\n",
    "                        |                                                                            |\n",
    "                        |                                                                            |\n",
    "                        |        Project Title: Angry Text Prediction System                         |                         \n",
    "                        |        Client Name  : Ayesha Noreen                                        |\n",
    "                        |                                                                            |\n",
    "                        *----------------------------------------------------------------------------*\n"
   ]
  },
  {
   "cell_type": "markdown",
   "id": "76604f09",
   "metadata": {},
   "source": [
    "\n",
    "                        *--------------------------- Purpose of the Program -------------------------*\n",
    "                        |                                                                            |\n",
    "                        |                                                                            |\n",
    "                        |    The Main purpoe of this program is to Test the Fine-tuned GPT-3 model   |\n",
    "                        |                                                                            |                         \n",
    "                        |                                                                            |\n",
    "                        *----------------------------------------------------------------------------*\n"
   ]
  },
  {
   "cell_type": "markdown",
   "id": "8500b3d3",
   "metadata": {},
   "source": [
    "\n",
    "                        *------------------------------ Input and Output ----------------------------*\n",
    "                        |                                                                            |\n",
    "                        |                                                                            |\n",
    "                        |        Input :                                                             |\n",
    "                        |                - Text                                                      |\n",
    "                        |       Output :                                                             |\n",
    "                        |                -  Angry or Non-Angry                                       |\n",
    "                        |                                                                            |\n",
    "                        |                                                                            |\n",
    "                        *----------------------------------------------------------------------------*\n"
   ]
  },
  {
   "cell_type": "markdown",
   "id": "09e68223",
   "metadata": {},
   "source": [
    "# Step 1: Import Libraries"
   ]
  },
  {
   "cell_type": "code",
   "execution_count": 1,
   "id": "0160cead",
   "metadata": {},
   "outputs": [],
   "source": [
    "import pandas as pd\n",
    "import openai\n",
    "import os"
   ]
  },
  {
   "cell_type": "markdown",
   "id": "47d0e55b",
   "metadata": {},
   "source": [
    "# Step 2: Add Unique API to the Environment"
   ]
  },
  {
   "cell_type": "code",
   "execution_count": 2,
   "id": "9e379622",
   "metadata": {},
   "outputs": [],
   "source": [
    "os.environ['OPENAI_API_KEY'] = \"Add Your Unique API Here\"\n",
    "openai.api_key = os.getenv(\"OPENAI_API_KEY\")"
   ]
  },
  {
   "cell_type": "markdown",
   "id": "44431e41",
   "metadata": {},
   "source": [
    "# Step 3: Test Fine-tuned Emotion Classification Model"
   ]
  },
  {
   "cell_type": "markdown",
   "id": "82b44530",
   "metadata": {},
   "source": [
    "#### Step 3.1: Load the Fine-tuned model"
   ]
  },
  {
   "cell_type": "code",
   "execution_count": 3,
   "id": "5bd36dfa",
   "metadata": {},
   "outputs": [],
   "source": [
    "ft_model = 'ada:ft-cui-2022-12-16-19-37-27'"
   ]
  },
  {
   "cell_type": "markdown",
   "id": "11803959",
   "metadata": {},
   "source": [
    "#### Step 3.2: Get input from the user"
   ]
  },
  {
   "cell_type": "code",
   "execution_count": 5,
   "id": "02bcb23c",
   "metadata": {},
   "outputs": [
    {
     "name": "stdout",
     "output_type": "stream",
     "text": [
      "Enter the Text! : i love me\n"
     ]
    }
   ],
   "source": [
    "get_input = input(str(\"Enter the Text! : \"))"
   ]
  },
  {
   "cell_type": "markdown",
   "id": "c087a821",
   "metadata": {},
   "source": [
    "\n",
    "#### Step 3.3: Get Predictions on Input Text"
   ]
  },
  {
   "cell_type": "markdown",
   "id": "1ac0002e",
   "metadata": {},
   "source": [
    "#### Step 3.3.1: Set Temperature"
   ]
  },
  {
   "cell_type": "code",
   "execution_count": 6,
   "id": "ff8bd601",
   "metadata": {},
   "outputs": [],
   "source": [
    "Temperature = 1\n",
    "set_max_tokens = 1"
   ]
  },
  {
   "cell_type": "markdown",
   "id": "18c77485",
   "metadata": {},
   "source": [
    "#### Step 3.4: Get Predicted Results from the Model"
   ]
  },
  {
   "cell_type": "code",
   "execution_count": 7,
   "id": "fb4b3830",
   "metadata": {},
   "outputs": [],
   "source": [
    "result = openai.Completion.create(model=ft_model,  prompt=get_input + ' ->', max_tokens=set_max_tokens, temperature=Temperature)"
   ]
  },
  {
   "cell_type": "code",
   "execution_count": 8,
   "id": "046b4557",
   "metadata": {},
   "outputs": [
    {
     "data": {
      "text/plain": [
       "<OpenAIObject text_completion id=cmpl-6OB5rItAy3G8wZ1Rmqs7lHhOJp0U0 at 0x2125d7172c0> JSON: {\n",
       "  \"choices\": [\n",
       "    {\n",
       "      \"finish_reason\": \"length\",\n",
       "      \"index\": 0,\n",
       "      \"logprobs\": null,\n",
       "      \"text\": \" 0\"\n",
       "    }\n",
       "  ],\n",
       "  \"created\": 1671220535,\n",
       "  \"id\": \"cmpl-6OB5rItAy3G8wZ1Rmqs7lHhOJp0U0\",\n",
       "  \"model\": \"ada:ft-cui-2022-12-16-19-37-27\",\n",
       "  \"object\": \"text_completion\",\n",
       "  \"usage\": {\n",
       "    \"completion_tokens\": 1,\n",
       "    \"prompt_tokens\": 4,\n",
       "    \"total_tokens\": 5\n",
       "  }\n",
       "}"
      ]
     },
     "execution_count": 8,
     "metadata": {},
     "output_type": "execute_result"
    }
   ],
   "source": [
    "result"
   ]
  },
  {
   "cell_type": "markdown",
   "id": "a7ec429a",
   "metadata": {},
   "source": [
    "#### Step 3.5: Print Predictions"
   ]
  },
  {
   "cell_type": "code",
   "execution_count": 9,
   "id": "d7ae35da",
   "metadata": {},
   "outputs": [
    {
     "name": "stdout",
     "output_type": "stream",
     "text": [
      "Predictions are : Non-Angry\n"
     ]
    }
   ],
   "source": [
    "def preprocess_results(results):\n",
    "    if int(results) == 0:\n",
    "        \n",
    "        return 'Non-Angry'\n",
    "    else:\n",
    "        \n",
    "        return 'Angry'\n",
    "    \n",
    "results = preprocess_results(result['choices'][0]['text'])\n",
    "\n",
    "print(f\"Predictions are : {results}\")"
   ]
  }
 ],
 "metadata": {
  "kernelspec": {
   "display_name": "Python 3 (ipykernel)",
   "language": "python",
   "name": "python3"
  },
  "language_info": {
   "codemirror_mode": {
    "name": "ipython",
    "version": 3
   },
   "file_extension": ".py",
   "mimetype": "text/x-python",
   "name": "python",
   "nbconvert_exporter": "python",
   "pygments_lexer": "ipython3",
   "version": "3.9.12"
  }
 },
 "nbformat": 4,
 "nbformat_minor": 5
}
