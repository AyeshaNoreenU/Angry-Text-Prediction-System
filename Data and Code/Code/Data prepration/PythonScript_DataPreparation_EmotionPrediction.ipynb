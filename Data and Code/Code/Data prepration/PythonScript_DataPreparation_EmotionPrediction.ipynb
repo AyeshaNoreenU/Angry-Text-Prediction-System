{
 "cells": [
  {
   "cell_type": "markdown",
   "id": "35a1e52a",
   "metadata": {},
   "source": [
    "<br><br><br>\n",
    "<center> <h3 style=\"color:green\">========================================================</h3> </center>\n",
    "<center> <h3 style=\"color:green\">In the Name of Allah, the Most Beneficent, the Most Merciful</h3> </center>\n",
    "<center> <h3 style=\"color:green\">========================================================</h3> </center>\n",
    "<br><br><br>"
   ]
  },
  {
   "cell_type": "markdown",
   "id": "ee0f5cee",
   "metadata": {},
   "source": [
    "                        *--------------------------- Developer Information --------------------------*\n",
    "                        |                                                                            |\n",
    "                        |        Project Title  = Angry Text Prediction System                       |\n",
    "                        |                                                                            |\n",
    "                        |        Developer Name = Ayesha Noreen                                      |\n",
    "                        |                                                                            |\n",
    "                        |        Program Name:  = Data preparation                                   |\n",
    "                        |                                                                            |\n",
    "                        |        Program Version: = 1.0                                              |\n",
    "                        |                                                                            |\n",
    "                        |        Base GPT3 Model: = Ada                                              |\n",
    "                        |                                                                            |\n",
    "                        |        Time Taken in Fine Tuning: = 6 minutes                              |\n",
    "                        |                                                                            |\n",
    "                        |        Copyright      = Copyright (C) 2022 Ayesha Noreen                   |\n",
    "                        |                                                                            |\n",
    "                        |        License        = Public Domain                                      |\n",
    "                        |                                                                            |\n",
    "                        |        Version        = 1.0                                                |\n",
    "                        |                                                                            |\n",
    "                        *----------------------------------------------------------------------------*"
   ]
  },
  {
   "cell_type": "markdown",
   "id": "ad94924e",
   "metadata": {},
   "source": [
    "\n",
    "                        *----------------------------- System Settings ------------------------------*\n",
    "                        |                                                                            |\n",
    "                        |        Programming Language  = Python 3.9.12                               |\n",
    "                        |                                                                            |\n",
    "                        |        Operating System      = Windows 10                                  |\n",
    "                        |                                                                            |\n",
    "                        |        IDE                   = Jupyter Notebook                            |\n",
    "                        |                                                                            |\n",
    "                        |        Start date            = 5-11-2022                                   |\n",
    "                        |                                                                            |\n",
    "                        |        End Data              = 10-11-2022                                   |\n",
    "                        |                                                                            |\n",
    "                        *----------------------------------------------------------------------------*\n"
   ]
  },
  {
   "cell_type": "markdown",
   "id": "174bf9d9",
   "metadata": {},
   "source": [
    "\n",
    "                        *----------------------- Project and Client Information  --------------------*\n",
    "                        |                                                                            |\n",
    "                        |                                                                            |\n",
    "                        |        Project Title: Angry Text Prediction System                         |                         \n",
    "                        |        Client Name  : Ayesha Noreen                                        |\n",
    "                        |                                                                            |\n",
    "                        *----------------------------------------------------------------------------*\n"
   ]
  },
  {
   "cell_type": "markdown",
   "id": "abcb023b",
   "metadata": {},
   "source": [
    "\n",
    "                        *--------------------------- Purpose of the Program -------------------------*\n",
    "                        |                                                                            |\n",
    "                        |                                                                            |\n",
    "                        |        The Main purpoe of this program is to transform the data into       |\n",
    "                        |                             a JSONLines Format                             |                         \n",
    "                        |                                                                            |\n",
    "                        |                                                                            |\n",
    "                        *----------------------------------------------------------------------------*\n"
   ]
  },
  {
   "cell_type": "markdown",
   "id": "76604f09",
   "metadata": {},
   "source": [
    "\n",
    "                        *------------------------------ Input and Output ----------------------------*\n",
    "                        |                                                                            |\n",
    "                        |                                                                            |\n",
    "                        |       Input :                                                              |\n",
    "                        |           - RawData_EmotionPrediction.csv                                  |\n",
    "                        |       Output :                                                             |\n",
    "                        |           - JASONLinesData_EmotionPrediction_prepared.jsonl                |\n",
    "                        |                                                                            |\n",
    "                        |                                                                            |\n",
    "                        *----------------------------------------------------------------------------*\n"
   ]
  },
  {
   "cell_type": "markdown",
   "id": "09e68223",
   "metadata": {},
   "source": [
    "# Step 1: Import Libraries"
   ]
  },
  {
   "cell_type": "code",
   "execution_count": 1,
   "id": "0160cead",
   "metadata": {},
   "outputs": [],
   "source": [
    "import pandas as pd\n",
    "import openai\n",
    "import os"
   ]
  },
  {
   "cell_type": "markdown",
   "id": "47d0e55b",
   "metadata": {},
   "source": [
    "# Step 2: Add Unique API to the Environment"
   ]
  },
  {
   "cell_type": "code",
   "execution_count": 2,
   "id": "9e379622",
   "metadata": {},
   "outputs": [],
   "source": [
    "os.environ['OPENAI_API_KEY'] = \"Add Your Unique API Here\"\n",
    "openai.api_key = os.getenv(\"OPENAI_API_KEY\")"
   ]
  },
  {
   "cell_type": "markdown",
   "id": "44431e41",
   "metadata": {},
   "source": [
    "# Step 3: Load Dataset"
   ]
  },
  {
   "cell_type": "code",
   "execution_count": 3,
   "id": "1d20423f",
   "metadata": {},
   "outputs": [
    {
     "data": {
      "text/html": [
       "<div>\n",
       "<style scoped>\n",
       "    .dataframe tbody tr th:only-of-type {\n",
       "        vertical-align: middle;\n",
       "    }\n",
       "\n",
       "    .dataframe tbody tr th {\n",
       "        vertical-align: top;\n",
       "    }\n",
       "\n",
       "    .dataframe thead th {\n",
       "        text-align: right;\n",
       "    }\n",
       "</style>\n",
       "<table border=\"1\" class=\"dataframe\">\n",
       "  <thead>\n",
       "    <tr style=\"text-align: right;\">\n",
       "      <th></th>\n",
       "      <th>Tweet</th>\n",
       "      <th>anger</th>\n",
       "    </tr>\n",
       "  </thead>\n",
       "  <tbody>\n",
       "    <tr>\n",
       "      <th>0</th>\n",
       "      <td>“Worry is a down payment on a problem you may ...</td>\n",
       "      <td>0</td>\n",
       "    </tr>\n",
       "    <tr>\n",
       "      <th>1</th>\n",
       "      <td>Whatever you decide to do make sure it makes y...</td>\n",
       "      <td>0</td>\n",
       "    </tr>\n",
       "    <tr>\n",
       "      <th>2</th>\n",
       "      <td>@Max_Kellerman  it also helps that the majorit...</td>\n",
       "      <td>1</td>\n",
       "    </tr>\n",
       "    <tr>\n",
       "      <th>3</th>\n",
       "      <td>Accept the challenges so that you can literall...</td>\n",
       "      <td>0</td>\n",
       "    </tr>\n",
       "    <tr>\n",
       "      <th>4</th>\n",
       "      <td>My roommate: it's okay that we can't spell bec...</td>\n",
       "      <td>1</td>\n",
       "    </tr>\n",
       "  </tbody>\n",
       "</table>\n",
       "</div>"
      ],
      "text/plain": [
       "                                               Tweet  anger\n",
       "0  “Worry is a down payment on a problem you may ...      0\n",
       "1  Whatever you decide to do make sure it makes y...      0\n",
       "2  @Max_Kellerman  it also helps that the majorit...      1\n",
       "3  Accept the challenges so that you can literall...      0\n",
       "4  My roommate: it's okay that we can't spell bec...      1"
      ]
     },
     "execution_count": 3,
     "metadata": {},
     "output_type": "execute_result"
    }
   ],
   "source": [
    "e_c_data = pd.read_csv(r'C:\\Users\\Ayesha Noreen\\Desktop\\Fine Tune Emotion Classification Using GPT-3 Model\\Data and Code\\Data\\RawData_EmotionPrediction.csv')\n",
    "e_c_data.head()"
   ]
  },
  {
   "cell_type": "markdown",
   "id": "1caa7b63",
   "metadata": {},
   "source": [
    "# Step 4: Change Dataset in the form of Prompt Completion"
   ]
  },
  {
   "cell_type": "markdown",
   "id": "492648de",
   "metadata": {},
   "source": [
    "### Step 4.1: Rename Input Column to prompt"
   ]
  },
  {
   "cell_type": "code",
   "execution_count": 4,
   "id": "51836f71",
   "metadata": {},
   "outputs": [
    {
     "data": {
      "text/html": [
       "<div>\n",
       "<style scoped>\n",
       "    .dataframe tbody tr th:only-of-type {\n",
       "        vertical-align: middle;\n",
       "    }\n",
       "\n",
       "    .dataframe tbody tr th {\n",
       "        vertical-align: top;\n",
       "    }\n",
       "\n",
       "    .dataframe thead th {\n",
       "        text-align: right;\n",
       "    }\n",
       "</style>\n",
       "<table border=\"1\" class=\"dataframe\">\n",
       "  <thead>\n",
       "    <tr style=\"text-align: right;\">\n",
       "      <th></th>\n",
       "      <th>prompt</th>\n",
       "      <th>completion</th>\n",
       "    </tr>\n",
       "  </thead>\n",
       "  <tbody>\n",
       "    <tr>\n",
       "      <th>0</th>\n",
       "      <td>“Worry is a down payment on a problem you may ...</td>\n",
       "      <td>0</td>\n",
       "    </tr>\n",
       "    <tr>\n",
       "      <th>1</th>\n",
       "      <td>Whatever you decide to do make sure it makes y...</td>\n",
       "      <td>0</td>\n",
       "    </tr>\n",
       "    <tr>\n",
       "      <th>2</th>\n",
       "      <td>@Max_Kellerman  it also helps that the majorit...</td>\n",
       "      <td>1</td>\n",
       "    </tr>\n",
       "    <tr>\n",
       "      <th>3</th>\n",
       "      <td>Accept the challenges so that you can literall...</td>\n",
       "      <td>0</td>\n",
       "    </tr>\n",
       "    <tr>\n",
       "      <th>4</th>\n",
       "      <td>My roommate: it's okay that we can't spell bec...</td>\n",
       "      <td>1</td>\n",
       "    </tr>\n",
       "  </tbody>\n",
       "</table>\n",
       "</div>"
      ],
      "text/plain": [
       "                                              prompt  completion\n",
       "0  “Worry is a down payment on a problem you may ...           0\n",
       "1  Whatever you decide to do make sure it makes y...           0\n",
       "2  @Max_Kellerman  it also helps that the majorit...           1\n",
       "3  Accept the challenges so that you can literall...           0\n",
       "4  My roommate: it's okay that we can't spell bec...           1"
      ]
     },
     "execution_count": 4,
     "metadata": {},
     "output_type": "execute_result"
    }
   ],
   "source": [
    "prompt_completion_form = e_c_data.copy()\n",
    "prompt_completion_form.rename(columns={'Tweet': 'prompt'}, inplace=True)\n",
    "prompt_completion_form.rename(columns={'anger': 'completion'}, inplace=True)\n",
    "prompt_completion_form.head()"
   ]
  },
  {
   "cell_type": "code",
   "execution_count": 5,
   "id": "9a99f76d",
   "metadata": {},
   "outputs": [],
   "source": [
    "prompt = prompt_completion_form['prompt']"
   ]
  },
  {
   "cell_type": "markdown",
   "id": "5ed33763",
   "metadata": {},
   "source": [
    "### Step 4.2: Merge Output Columns as a single column and rename as completion"
   ]
  },
  {
   "cell_type": "markdown",
   "id": "72901196",
   "metadata": {},
   "source": [
    "# Step 5: Select Specific Dataset Rows\n",
    "#### Here we are selecting first 100 for the Fine Tunning¶"
   ]
  },
  {
   "cell_type": "code",
   "execution_count": 6,
   "id": "01ecee92",
   "metadata": {
    "scrolled": true
   },
   "outputs": [],
   "source": [
    "e_c_data = e_c_data.iloc[:200,:]"
   ]
  },
  {
   "cell_type": "markdown",
   "id": "742e3f7d",
   "metadata": {},
   "source": [
    "# Step 6: Convert Dataset to JSONLines"
   ]
  },
  {
   "cell_type": "code",
   "execution_count": 7,
   "id": "672bee5b",
   "metadata": {},
   "outputs": [],
   "source": [
    "prompt_completion_form.to_json(\"JASONLinesData_EmotionPrediction.jsonl\", orient='records', lines=True)"
   ]
  },
  {
   "cell_type": "markdown",
   "id": "db72cd15",
   "metadata": {},
   "source": [
    "# Step 7: Using OpenAi tools to prepare and Analyze dataset\n",
    "#### We can now use a data preparation tool which will suggest a few improvements to our dataset before fine-tuning. Before launching the tool we update the openai library to ensure we're using the latest data preparation tool. We additionally specify -q which auto-accepts all suggestions."
   ]
  },
  {
   "cell_type": "markdown",
   "id": "ca7811b6",
   "metadata": {},
   "source": [
    "#### if data contains empty records it will remove rows"
   ]
  },
  {
   "cell_type": "code",
   "execution_count": 8,
   "id": "79246f5d",
   "metadata": {
    "scrolled": false
   },
   "outputs": [
    {
     "name": "stdout",
     "output_type": "stream",
     "text": [
      "Analyzing...\n",
      "\n",
      "- Your file contains 6179 prompt-completion pairs\n",
      "- Based on your data it seems like you're trying to fine-tune a model for classification\n",
      "- For classification, we recommend you try one of the faster and cheaper models, such as `ada`\n",
      "- For classification, you can estimate the expected model performance by keeping a held out dataset, which is not used for training\n",
      "- Your data does not contain a common separator at the end of your prompts. Having a separator string appended to the end of the prompt makes it clearer to the fine-tuned model where the completion should begin. See https://beta.openai.com/docs/guides/fine-tuning/preparing-your-dataset for more detail and examples. If you intend to do open-ended generation, then you should leave the prompts empty\n",
      "- The completion should start with a whitespace character (` `). This tends to produce better results due to the tokenization we use. See https://beta.openai.com/docs/guides/fine-tuning/preparing-your-dataset for more details\n",
      "\n",
      "Based on the analysis we will perform the following actions:\n",
      "- [Recommended] Add a suffix separator ` ->` to all prompts [Y/n]: Y\n",
      "- [Recommended] Add a whitespace character to the beginning of the completion [Y/n]: Y\n",
      "- [Recommended] Would you like to split into training and validation set? [Y/n]: Y\n",
      "\n",
      "\n",
      "Your data will be written to a new JSONL file. Proceed [Y/n]: Y\n",
      "\n",
      "Wrote modified files to `JASONLinesData_EmotionPrediction_prepared_train (5).jsonl` and `JASONLinesData_EmotionPrediction_prepared_valid (5).jsonl`\n",
      "Feel free to take a look!\n",
      "\n",
      "Now use that file when fine-tuning:\n",
      "> openai api fine_tunes.create -t \"JASONLinesData_EmotionPrediction_prepared_train (5).jsonl\" -v \"JASONLinesData_EmotionPrediction_prepared_valid (5).jsonl\" --compute_classification_metrics --classification_positive_class \" 0\"\n",
      "\n",
      "After you’ve fine-tuned a model, remember that your prompt has to end with the indicator string ` ->` for the model to start generating completions, rather than continuing with the prompt.\n",
      "Once your model starts training, it'll approximately take 2.51 hours to train a `curie` model, and less for `ada` and `babbage`. Queue will approximately take half an hour per job ahead of you.\n"
     ]
    }
   ],
   "source": [
    "!openai tools fine_tunes.prepare_data -f JASONLinesData_EmotionPrediction.jsonl -q"
   ]
  },
  {
   "cell_type": "markdown",
   "id": "4b7478c1",
   "metadata": {},
   "source": [
    "#### Use JASONLinesData_EmotionPrediction_prepared_train (5).jsonl\" and \"JASONLinesData_EmotionPrediction_prepared_valid (5).jsonl\" for fineTuning\n"
   ]
  }
 ],
 "metadata": {
  "kernelspec": {
   "display_name": "Python 3 (ipykernel)",
   "language": "python",
   "name": "python3"
  },
  "language_info": {
   "codemirror_mode": {
    "name": "ipython",
    "version": 3
   },
   "file_extension": ".py",
   "mimetype": "text/x-python",
   "name": "python",
   "nbconvert_exporter": "python",
   "pygments_lexer": "ipython3",
   "version": "3.9.12"
  }
 },
 "nbformat": 4,
 "nbformat_minor": 5
}
